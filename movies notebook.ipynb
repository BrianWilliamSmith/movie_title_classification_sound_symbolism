{
 "cells": [
  {
   "cell_type": "markdown",
   "metadata": {
    "collapsed": true,
    "pycharm": {
     "is_executing": false,
     "name": "#%% md\n"
    }
   },
   "source": [
    "# Using sound symbolic patterns in a text classifer\n",
    "\n",
    "### Task\n",
    "* Predict the genre of a movie based on its title.\n",
    "* Intuition: it's possible — humans can do it!\n",
    "* Initial setup:\n",
    "   * Classes — serious horror vs. romantic comedy\n",
    "   * ~5,300 movie titles from The Movie Database\n",
    "        * ~3,000 horror\n",
    "        * ~2,300 romcom\n",
    "\n",
    "### The problem\n",
    "* Titles are very short documents (1-5 words)\n",
    "* Many words only occur once in a data set\n",
    "    * 'The Fortunes and Misfortunes of Moll Flanders'\n",
    "    * 'The Incredible Jessica James'\n",
    "    * 'The Burkittsville seven'\n",
    "    \n",
    "### Idea for a solution\n",
    "* Sound symbolism — across languages, certain sounds tend to be associated with certain emotional/physical characteristics.\n",
    "    * The 'bouba - kiki' effect — one word is spikey, one word is an amorphous blob.\n",
    "    * https://en.wikipedia.org/wiki/Bouba/kiki_effect\n",
    "* Vowels: words with 'eee' vs. words with 'aah':\n",
    "    * eee: smaller, faster, lighter, and more pleasant.\n",
    "    * aah: bigger, heavier, and more aggressive.\n",
    "* Big idea: use vowel sounds to improve classification.\n",
    "    * Every word has vowels: extract predictive information for out of vocabulary words.\n",
    "    * Generalize across vowels using phonetic properties of vowel (e.g. high vowels; back vowels).\n",
    "\n",
    "### Potential applications\n",
    "* This could be useful for low resource languages, small datasets, or datasets that exhibit a lot creative word usage.\n",
    "   * Learn patterns with fewer words.\n",
    "   * If associations are universal, model of English could be transferred to another language\n",
    "* Better branding.\n",
    "    * Make your title (or product name) fit your genre (or product) better.\n",
    "* Broader uses in sentiment and topic analysis.\n",
    "    * Especially if sound symbolism extends to the emotional domain, as some research has suggested.\n",
    "\n",
    "### Current models and results\n",
    "* Finding: There's a very small but very consistent difference between horror and romcom titles with respect to the vowels they contain, but this effect isn't big enough to improve classification in the models.\n",
    "* Models — logistic regression with different feature sets.\n",
    "    * Bag of words — a feature for every word.\n",
    "    * Bag of vowels — a feature for every vowel.\n",
    "    * Bag of phonetic properties — a feature for every phonetic property.\n",
    "    * Mixed bag words and vowels.\n",
    "    * Mixed bag words and phonetic properties.\n",
    "* Results — phonetic information doesn't improve classification.\n",
    "    * Mixed bag models: overall, only marginally better than a bag of words model.\n",
    "    * A preliminary model with consonants added looks best.\n",
    "    * Bag of vowels / bag of properties models: only marginally better than a baseline model that always guesses horror.\n",
    "* Future directions:\n",
    "    * The main usefulness of this approach is for out of vocabulary words, where sound could serve as a fallback. Of course, the main determiner to word choice in titles is the meaning of the word.\n",
    "    * The next step is to add:\n",
    "        * Semantics.\n",
    "            * Allows greater generalization across the small number of words.\n",
    "        * Consonants and consonant features.\n",
    "            * Some behavioral experiments have shown that the effects of consonants and vowels are additive, and the strongest effects occur when the two factors are congruent.\n",
    "    * I also a Chinese data set - same set of movies written in Chinese -- to evaluate whether these effects hold across languages.\n",
    "    "
   ]
  },
  {
   "cell_type": "markdown",
   "metadata": {},
   "source": [
    "### Importing data set"
   ]
  },
  {
   "cell_type": "code",
   "execution_count": 1,
   "metadata": {
    "pycharm": {
     "is_executing": false,
     "name": "#%%\n"
    }
   },
   "outputs": [
    {
     "data": {
      "text/html": [
       "<div>\n",
       "<style scoped>\n",
       "    .dataframe tbody tr th:only-of-type {\n",
       "        vertical-align: middle;\n",
       "    }\n",
       "\n",
       "    .dataframe tbody tr th {\n",
       "        vertical-align: top;\n",
       "    }\n",
       "\n",
       "    .dataframe thead th {\n",
       "        text-align: right;\n",
       "    }\n",
       "</style>\n",
       "<table border=\"1\" class=\"dataframe\">\n",
       "  <thead>\n",
       "    <tr style=\"text-align: right;\">\n",
       "      <th></th>\n",
       "      <th>title</th>\n",
       "      <th>label</th>\n",
       "      <th>imdb_id</th>\n",
       "      <th>popularity</th>\n",
       "    </tr>\n",
       "  </thead>\n",
       "  <tbody>\n",
       "    <tr>\n",
       "      <th>0</th>\n",
       "      <td>Grumpier Old Men</td>\n",
       "      <td>romcom</td>\n",
       "      <td>tt0113228</td>\n",
       "      <td>11.712900</td>\n",
       "    </tr>\n",
       "    <tr>\n",
       "      <th>1</th>\n",
       "      <td>Waiting to Exhale</td>\n",
       "      <td>romcom</td>\n",
       "      <td>tt0114885</td>\n",
       "      <td>3.859495</td>\n",
       "    </tr>\n",
       "    <tr>\n",
       "      <th>2</th>\n",
       "      <td>Sabrina</td>\n",
       "      <td>romcom</td>\n",
       "      <td>tt0114319</td>\n",
       "      <td>6.677277</td>\n",
       "    </tr>\n",
       "    <tr>\n",
       "      <th>3</th>\n",
       "      <td>The American President</td>\n",
       "      <td>romcom</td>\n",
       "      <td>tt0112346</td>\n",
       "      <td>6.318445</td>\n",
       "    </tr>\n",
       "    <tr>\n",
       "      <th>4</th>\n",
       "      <td>It Takes Two</td>\n",
       "      <td>romcom</td>\n",
       "      <td>tt0113442</td>\n",
       "      <td>7.777735</td>\n",
       "    </tr>\n",
       "  </tbody>\n",
       "</table>\n",
       "</div>"
      ],
      "text/plain": [
       "                    title   label    imdb_id  popularity\n",
       "0        Grumpier Old Men  romcom  tt0113228   11.712900\n",
       "1       Waiting to Exhale  romcom  tt0114885    3.859495\n",
       "2                 Sabrina  romcom  tt0114319    6.677277\n",
       "3  The American President  romcom  tt0112346    6.318445\n",
       "4            It Takes Two  romcom  tt0113442    7.777735"
      ]
     },
     "execution_count": 1,
     "metadata": {},
     "output_type": "execute_result"
    }
   ],
   "source": [
    "import pandas as pd\n",
    "import numpy as np\n",
    "import seaborn as sns\n",
    "import re\n",
    "from g2p_en import G2p\n",
    "from nltk.corpus import stopwords\n",
    "from nltk.stem import WordNetLemmatizer \n",
    "import matplotlib.pyplot as plt\n",
    "from sklearn.feature_extraction.text import CountVectorizer, TfidfTransformer\n",
    "from sklearn.metrics import (accuracy_score, confusion_matrix, \n",
    "                             classification_report, roc_auc_score, f1_score, \n",
    "                             plot_confusion_matrix, plot_roc_curve)\n",
    "from sklearn.linear_model import LogisticRegression\n",
    "from sklearn.model_selection import train_test_split\n",
    "from sklearn import preprocessing\n",
    "from sklearn.naive_bayes import MultinomialNB\n",
    "\n",
    "# Read in the dataset, which comes from TMDB.\n",
    "\n",
    "movies = pd.read_csv('movies_metadata.csv', dtype='string')\n",
    "movies.dropna(subset = ['title', 'imdb_id', 'genres', 'popularity'], inplace=True)\n",
    "movies = movies[(movies.genres != '[]') &\n",
    "                (movies.title != '[]') &\n",
    "                (movies.imdb_id != '[]') &\n",
    "                (movies.original_language == 'en')]\n",
    "\n",
    "# Add a column with labels for romcom and horror.\n",
    "\n",
    "bool_is_romance = movies.genres.str.contains('Romance')\n",
    "bool_is_comedy = movies.genres.str.contains('Comedy')\n",
    "bool_is_horror = movies.genres.str.contains('Horror')\n",
    "bool_is_serious_horror = (bool_is_comedy == False) & (bool_is_horror)\n",
    "bool_is_rom_com = (bool_is_romance) & (bool_is_comedy)\n",
    "movies['label'] = 'other'\n",
    "movies.loc[bool_is_serious_horror, 'label'] = 'horror'\n",
    "movies.loc[bool_is_rom_com, 'label'] = 'romcom'\n",
    "\n",
    "# Dataframe for everything (df): just the romcoms and horror movies.\n",
    "# The column 'imbd_id column' makes it easy to join with other data.\n",
    "# 'Popularity' is a metric from TMDB that isn't well-defined, but maybe useful.\n",
    "\n",
    "df = movies[movies.label != 'other']\n",
    "keep_columns = ['title', 'label', 'imdb_id', 'popularity']\n",
    "df = df[keep_columns]\n",
    "df.reset_index(drop=True, inplace=True)\n",
    "df['popularity'] = pd.to_numeric(df.popularity)\n",
    "df.drop_duplicates(subset='title', inplace=True)\n",
    "\n",
    "df.head()"
   ]
  },
  {
   "cell_type": "markdown",
   "metadata": {},
   "source": [
    "### Processing titles: adding transcriptions and phonetic properties"
   ]
  },
  {
   "cell_type": "code",
   "execution_count": 2,
   "metadata": {
    "pycharm": {
     "is_executing": false,
     "name": "#%%\n"
    }
   },
   "outputs": [
    {
     "data": {
      "text/plain": [
       "0          grumpier old men\n",
       "1         waiting to exhale\n",
       "2                   sabrina\n",
       "3    the american president\n",
       "4              it takes two\n",
       "Name: title, dtype: object"
      ]
     },
     "execution_count": 2,
     "metadata": {},
     "output_type": "execute_result"
    }
   ],
   "source": [
    "# Clean up titles.\n",
    "\n",
    "title_processed = df.title.str.lower().str.strip()\n",
    "\n",
    "# Remove sequels by looking for numbers and 'part'.\n",
    "\n",
    "title_processed[(title_processed.str.contains(\" part \"))] = ''\n",
    "title_processed[(title_processed.str.contains(\"[0-9]\"))] = ''\n",
    "\n",
    "re_roman_numerals = re.compile(' (x[cl]|l?x{0,3})(i[xv]|v?i{0,3})([:]|$)')\n",
    "title_processed = title_processed.str.replace(re_roman_numerals, '')\n",
    "title_processed = title_processed.str.replace('[&]', 'and')\n",
    "title_processed = title_processed.str.replace('dr[.]', 'doctor')\n",
    "title_processed = title_processed.str.replace('[:–-]', ' ')\n",
    "\n",
    "def trim_ws(text):\n",
    "    return re.sub('( )+', ' ', text).strip()\n",
    "    \n",
    "title_processed = title_processed.apply(trim_ws)\n",
    "\n",
    "title_processed.head()"
   ]
  },
  {
   "cell_type": "code",
   "execution_count": 3,
   "metadata": {
    "pycharm": {
     "is_executing": false,
     "name": "#%%\n"
    }
   },
   "outputs": [
    {
     "data": {
      "text/html": [
       "<div>\n",
       "<style scoped>\n",
       "    .dataframe tbody tr th:only-of-type {\n",
       "        vertical-align: middle;\n",
       "    }\n",
       "\n",
       "    .dataframe tbody tr th {\n",
       "        vertical-align: top;\n",
       "    }\n",
       "\n",
       "    .dataframe thead th {\n",
       "        text-align: right;\n",
       "    }\n",
       "</style>\n",
       "<table border=\"1\" class=\"dataframe\">\n",
       "  <thead>\n",
       "    <tr style=\"text-align: right;\">\n",
       "      <th></th>\n",
       "      <th>title</th>\n",
       "      <th>title_processed</th>\n",
       "      <th>title_stemmed</th>\n",
       "      <th>ipa</th>\n",
       "    </tr>\n",
       "  </thead>\n",
       "  <tbody>\n",
       "    <tr>\n",
       "      <th>0</th>\n",
       "      <td>Grumpier Old Men</td>\n",
       "      <td>grumpier old men</td>\n",
       "      <td>grumpier old men</td>\n",
       "      <td>G R AH1 M P IY0 ER0 OW1 L D M EH1 N</td>\n",
       "    </tr>\n",
       "    <tr>\n",
       "      <th>1</th>\n",
       "      <td>Waiting to Exhale</td>\n",
       "      <td>waiting exhale</td>\n",
       "      <td>waiting exhale</td>\n",
       "      <td>W EY1 T IH0 NG EH0 K S HH EY1 L</td>\n",
       "    </tr>\n",
       "    <tr>\n",
       "      <th>2</th>\n",
       "      <td>Sabrina</td>\n",
       "      <td>sabrina</td>\n",
       "      <td>sabrina</td>\n",
       "      <td>S AH0 B R IY1 N AH0</td>\n",
       "    </tr>\n",
       "    <tr>\n",
       "      <th>3</th>\n",
       "      <td>The American President</td>\n",
       "      <td>american president</td>\n",
       "      <td>american president</td>\n",
       "      <td>AH0 M EH1 R AH0 K AH0 N P R EH1 Z AH0 D EH2 N T</td>\n",
       "    </tr>\n",
       "    <tr>\n",
       "      <th>4</th>\n",
       "      <td>It Takes Two</td>\n",
       "      <td>takes two</td>\n",
       "      <td>take two</td>\n",
       "      <td>T EY1 K S T UW1</td>\n",
       "    </tr>\n",
       "    <tr>\n",
       "      <th>5</th>\n",
       "      <td>Clueless</td>\n",
       "      <td>clueless</td>\n",
       "      <td>clueless</td>\n",
       "      <td>K L UW1 L AH0 S</td>\n",
       "    </tr>\n",
       "    <tr>\n",
       "      <th>6</th>\n",
       "      <td>Mighty Aphrodite</td>\n",
       "      <td>mighty aphrodite</td>\n",
       "      <td>mighty aphrodite</td>\n",
       "      <td>M AY1 T IY0 AE2 F R AH0 D AY1 T IY0</td>\n",
       "    </tr>\n",
       "    <tr>\n",
       "      <th>7</th>\n",
       "      <td>Home for the Holidays</td>\n",
       "      <td>home holidays</td>\n",
       "      <td>home holiday</td>\n",
       "      <td>HH OW1 M HH AA1 L AH0 D EY2 Z</td>\n",
       "    </tr>\n",
       "    <tr>\n",
       "      <th>8</th>\n",
       "      <td>Two If by Sea</td>\n",
       "      <td>two sea</td>\n",
       "      <td>two sea</td>\n",
       "      <td>T UW1 S IY1</td>\n",
       "    </tr>\n",
       "    <tr>\n",
       "      <th>9</th>\n",
       "      <td>From Dusk Till Dawn</td>\n",
       "      <td>dusk till dawn</td>\n",
       "      <td>dusk till dawn</td>\n",
       "      <td>D AH1 S K T IH1 L D AO1 N</td>\n",
       "    </tr>\n",
       "  </tbody>\n",
       "</table>\n",
       "</div>"
      ],
      "text/plain": [
       "                    title     title_processed       title_stemmed  \\\n",
       "0        Grumpier Old Men    grumpier old men    grumpier old men   \n",
       "1       Waiting to Exhale      waiting exhale      waiting exhale   \n",
       "2                 Sabrina             sabrina             sabrina   \n",
       "3  The American President  american president  american president   \n",
       "4            It Takes Two           takes two            take two   \n",
       "5                Clueless            clueless            clueless   \n",
       "6        Mighty Aphrodite    mighty aphrodite    mighty aphrodite   \n",
       "7   Home for the Holidays       home holidays        home holiday   \n",
       "8           Two If by Sea             two sea             two sea   \n",
       "9     From Dusk Till Dawn      dusk till dawn      dusk till dawn   \n",
       "\n",
       "                                               ipa  \n",
       "0              G R AH1 M P IY0 ER0 OW1 L D M EH1 N  \n",
       "1                  W EY1 T IH0 NG EH0 K S HH EY1 L  \n",
       "2                              S AH0 B R IY1 N AH0  \n",
       "3  AH0 M EH1 R AH0 K AH0 N P R EH1 Z AH0 D EH2 N T  \n",
       "4                                  T EY1 K S T UW1  \n",
       "5                                  K L UW1 L AH0 S  \n",
       "6              M AY1 T IY0 AE2 F R AH0 D AY1 T IY0  \n",
       "7                    HH OW1 M HH AA1 L AH0 D EY2 Z  \n",
       "8                                      T UW1 S IY1  \n",
       "9                        D AH1 S K T IH1 L D AO1 N  "
      ]
     },
     "execution_count": 3,
     "metadata": {},
     "output_type": "execute_result"
    }
   ],
   "source": [
    "# Add IPA transcriptions using g2p_en and then remove stopwords.\n",
    "\n",
    "g2p = G2p()\n",
    "\n",
    "ipa_split_by_word = []\n",
    "titles_split_by_word = []\n",
    "\n",
    "for title in title_processed:\n",
    "    transcription = ' '.join(g2p(title))\n",
    "    transcription = transcription.split('   ') \n",
    "    ipa_split_by_word.append(transcription)\n",
    "    title_list = title.split(' ')\n",
    "    titles_split_by_word.append(title_list)\n",
    "\n",
    "# Remove stopwords from both IPA transcriptions and titles.\n",
    "# This requires finding the stopword in the title and removing the corresponding\n",
    "# word from the transcription. This happens after transcription, because transcription\n",
    "# uses stopwords to help figure out contexts for PoS.\n",
    "\n",
    "words_to_drop = stopwords.words('english')\n",
    "for title_i in range(0, len(titles_split_by_word)):\n",
    "    for word_i in range(0, len(titles_split_by_word[title_i])):\n",
    "        if titles_split_by_word[title_i][word_i] in words_to_drop:\n",
    "            titles_split_by_word[title_i][word_i] = ''\n",
    "            ipa_split_by_word[title_i][word_i] = ''\n",
    "\n",
    "\n",
    "# New columns for processed title and ipa, with stopwords and punctuation removed.\n",
    "\n",
    "df['title_processed'] = [' '.join(x) for x in titles_split_by_word if x is not '']\n",
    "df['ipa'] = [' '.join(x) for x in ipa_split_by_word if x != '']\n",
    "\n",
    "re_punct = re.compile('[!\"#$%()*+,-./:;<=>?@^\\[\\]\\_\\'`{|}~]')\n",
    "df['title_processed'] = df.title_processed.str.replace(re_punct, '')\n",
    "df['ipa'] = df.ipa.replace(re_punct, '')\n",
    "\n",
    "df['title_processed'] = df.title_processed.apply(trim_ws)\n",
    "df['ipa'] = df.ipa.apply(trim_ws)\n",
    "\n",
    "# Lemmatize what's left.\n",
    "\n",
    "lemmatizer = WordNetLemmatizer()\n",
    "\n",
    "titles_stemmed = []\n",
    "for title in df.title_processed:\n",
    "    stemmed_words = [lemmatizer.lemmatize(word) for word in title.split(' ')]\n",
    "    titles_stemmed.append(' '.join(stemmed_words))\n",
    "df['title_stemmed'] = titles_stemmed\n",
    "\n",
    "# Drop titles that were destroyed by stopword removal\n",
    "\n",
    "df = df[df.title_processed != '']\n",
    "df.reset_index(drop=True, inplace=True)\n",
    "\n",
    "df[['title', 'title_processed', 'title_stemmed', 'ipa']].head(10)"
   ]
  },
  {
   "cell_type": "code",
   "execution_count": 4,
   "metadata": {
    "pycharm": {
     "is_executing": false,
     "name": "#%%\n"
    }
   },
   "outputs": [
    {
     "data": {
      "text/html": [
       "<div>\n",
       "<style scoped>\n",
       "    .dataframe tbody tr th:only-of-type {\n",
       "        vertical-align: middle;\n",
       "    }\n",
       "\n",
       "    .dataframe tbody tr th {\n",
       "        vertical-align: top;\n",
       "    }\n",
       "\n",
       "    .dataframe thead th {\n",
       "        text-align: right;\n",
       "    }\n",
       "</style>\n",
       "<table border=\"1\" class=\"dataframe\">\n",
       "  <thead>\n",
       "    <tr style=\"text-align: right;\">\n",
       "      <th></th>\n",
       "      <th>title</th>\n",
       "      <th>title_stemmed</th>\n",
       "      <th>ipa</th>\n",
       "      <th>vowels</th>\n",
       "      <th>consonants</th>\n",
       "    </tr>\n",
       "  </thead>\n",
       "  <tbody>\n",
       "    <tr>\n",
       "      <th>0</th>\n",
       "      <td>Grumpier Old Men</td>\n",
       "      <td>grumpier old men</td>\n",
       "      <td>G R AH1 M P IY0 ER0 OW1 L D M EH1 N</td>\n",
       "      <td>AH IY ER OW EH</td>\n",
       "      <td>GG RR  MM PP    LL DD MM  NN</td>\n",
       "    </tr>\n",
       "    <tr>\n",
       "      <th>1</th>\n",
       "      <td>Waiting to Exhale</td>\n",
       "      <td>waiting exhale</td>\n",
       "      <td>W EY1 T IH0 NG EH0 K S HH EY1 L</td>\n",
       "      <td>EY EY</td>\n",
       "      <td>WW  TT  NG  KK SS HH  LL</td>\n",
       "    </tr>\n",
       "    <tr>\n",
       "      <th>2</th>\n",
       "      <td>Sabrina</td>\n",
       "      <td>sabrina</td>\n",
       "      <td>S AH0 B R IY1 N AH0</td>\n",
       "      <td>IY</td>\n",
       "      <td>SS  BB RR  NN</td>\n",
       "    </tr>\n",
       "    <tr>\n",
       "      <th>3</th>\n",
       "      <td>The American President</td>\n",
       "      <td>american president</td>\n",
       "      <td>AH0 M EH1 R AH0 K AH0 N P R EH1 Z AH0 D EH2 N T</td>\n",
       "      <td>EH EH EH</td>\n",
       "      <td>MM  RR  KK  NN PP RR  ZZ  DD  NN TT</td>\n",
       "    </tr>\n",
       "    <tr>\n",
       "      <th>4</th>\n",
       "      <td>It Takes Two</td>\n",
       "      <td>take two</td>\n",
       "      <td>T EY1 K S T UW1</td>\n",
       "      <td>EY UW</td>\n",
       "      <td>TT  KK SS TT</td>\n",
       "    </tr>\n",
       "    <tr>\n",
       "      <th>5</th>\n",
       "      <td>Clueless</td>\n",
       "      <td>clueless</td>\n",
       "      <td>K L UW1 L AH0 S</td>\n",
       "      <td>UW</td>\n",
       "      <td>KK LL  LL  SS</td>\n",
       "    </tr>\n",
       "    <tr>\n",
       "      <th>6</th>\n",
       "      <td>Mighty Aphrodite</td>\n",
       "      <td>mighty aphrodite</td>\n",
       "      <td>M AY1 T IY0 AE2 F R AH0 D AY1 T IY0</td>\n",
       "      <td>AY IY AE AY IY</td>\n",
       "      <td>MM  TT   FF RR  DD  TT</td>\n",
       "    </tr>\n",
       "    <tr>\n",
       "      <th>7</th>\n",
       "      <td>Home for the Holidays</td>\n",
       "      <td>home holiday</td>\n",
       "      <td>HH OW1 M HH AA1 L AH0 D EY2 Z</td>\n",
       "      <td>OW AA EY</td>\n",
       "      <td>HH  MM HH  LL  DD  ZZ</td>\n",
       "    </tr>\n",
       "    <tr>\n",
       "      <th>8</th>\n",
       "      <td>Two If by Sea</td>\n",
       "      <td>two sea</td>\n",
       "      <td>T UW1 S IY1</td>\n",
       "      <td>UW IY</td>\n",
       "      <td>TT  SS</td>\n",
       "    </tr>\n",
       "    <tr>\n",
       "      <th>9</th>\n",
       "      <td>From Dusk Till Dawn</td>\n",
       "      <td>dusk till dawn</td>\n",
       "      <td>D AH1 S K T IH1 L D AO1 N</td>\n",
       "      <td>AH IH AA</td>\n",
       "      <td>DD  SS KK TT  LL DD  NN</td>\n",
       "    </tr>\n",
       "  </tbody>\n",
       "</table>\n",
       "</div>"
      ],
      "text/plain": [
       "                    title       title_stemmed  \\\n",
       "0        Grumpier Old Men    grumpier old men   \n",
       "1       Waiting to Exhale      waiting exhale   \n",
       "2                 Sabrina             sabrina   \n",
       "3  The American President  american president   \n",
       "4            It Takes Two            take two   \n",
       "5                Clueless            clueless   \n",
       "6        Mighty Aphrodite    mighty aphrodite   \n",
       "7   Home for the Holidays        home holiday   \n",
       "8           Two If by Sea             two sea   \n",
       "9     From Dusk Till Dawn      dusk till dawn   \n",
       "\n",
       "                                               ipa          vowels  \\\n",
       "0              G R AH1 M P IY0 ER0 OW1 L D M EH1 N  AH IY ER OW EH   \n",
       "1                  W EY1 T IH0 NG EH0 K S HH EY1 L           EY EY   \n",
       "2                              S AH0 B R IY1 N AH0              IY   \n",
       "3  AH0 M EH1 R AH0 K AH0 N P R EH1 Z AH0 D EH2 N T        EH EH EH   \n",
       "4                                  T EY1 K S T UW1           EY UW   \n",
       "5                                  K L UW1 L AH0 S              UW   \n",
       "6              M AY1 T IY0 AE2 F R AH0 D AY1 T IY0  AY IY AE AY IY   \n",
       "7                    HH OW1 M HH AA1 L AH0 D EY2 Z        OW AA EY   \n",
       "8                                      T UW1 S IY1           UW IY   \n",
       "9                        D AH1 S K T IH1 L D AO1 N        AH IH AA   \n",
       "\n",
       "                             consonants  \n",
       "0          GG RR  MM PP    LL DD MM  NN  \n",
       "1              WW  TT  NG  KK SS HH  LL  \n",
       "2                        SS  BB RR  NN   \n",
       "3   MM  RR  KK  NN PP RR  ZZ  DD  NN TT  \n",
       "4                         TT  KK SS TT   \n",
       "5                         KK LL  LL  SS  \n",
       "6               MM  TT   FF RR  DD  TT   \n",
       "7                 HH  MM HH  LL  DD  ZZ  \n",
       "8                               TT  SS   \n",
       "9               DD  SS KK TT  LL DD  NN  "
      ]
     },
     "execution_count": 4,
     "metadata": {},
     "output_type": "execute_result"
    }
   ],
   "source": [
    "# Extract just the stressed vowels as column 'vowels'.\n",
    "# Unstressed vowels -- like stopwords -- are less informative.\n",
    "\n",
    "df['vowels'] = df.ipa\n",
    "\n",
    "re_consonants = re.compile('[A-Z]*(?=($|\\s))')\n",
    "re_unstressed_vowels = re.compile('.H0')\n",
    "re_stress_markers = re.compile('[0-9]')\n",
    "\n",
    "df['vowels'] = df.vowels.str.replace(re_consonants, '')\n",
    "df['vowels'] = df.vowels.str.replace(re_unstressed_vowels, '')\n",
    "df['vowels'] = df.vowels.str.replace(re_stress_markers, '')\n",
    "df['vowels'] = df.vowels.apply(trim_ws)\n",
    "\n",
    "# Merge 'AO' and 'AA' since most speakers have merged them in tge US.\n",
    "\n",
    "df['vowels'] = df.vowels.str.replace('AO', 'AA')\n",
    "\n",
    "# Extract consonants. (Not yet incorporated into model.)\n",
    "# Single consonants need to be doubled because of the scikit learn vectorizer.\n",
    "\n",
    "df['consonants'] = df.ipa\n",
    "df['consonants'] = df.consonants.str.replace('[A-Z]*[0-9]', '')\n",
    "df['consonants'] = df.consonants.apply(lambda x : re.sub('(?<!\\w)([A-Z])(?!\\w)', \n",
    "                                                         '\\g<1>\\g<1>', x))\n",
    "\n",
    "df[['title', 'title_stemmed', 'ipa', 'vowels', 'consonants']].head(10)"
   ]
  },
  {
   "cell_type": "code",
   "execution_count": 5,
   "metadata": {
    "pycharm": {
     "is_executing": false,
     "name": "#%%\n"
    }
   },
   "outputs": [
    {
     "data": {
      "text/html": [
       "<div>\n",
       "<style scoped>\n",
       "    .dataframe tbody tr th:only-of-type {\n",
       "        vertical-align: middle;\n",
       "    }\n",
       "\n",
       "    .dataframe tbody tr th {\n",
       "        vertical-align: top;\n",
       "    }\n",
       "\n",
       "    .dataframe thead th {\n",
       "        text-align: right;\n",
       "    }\n",
       "</style>\n",
       "<table border=\"1\" class=\"dataframe\">\n",
       "  <thead>\n",
       "    <tr style=\"text-align: right;\">\n",
       "      <th></th>\n",
       "      <th>syllabic</th>\n",
       "      <th>diphthong</th>\n",
       "      <th>mainstress</th>\n",
       "      <th>stress</th>\n",
       "      <th>consonantal</th>\n",
       "      <th>sonorant</th>\n",
       "      <th>continuant</th>\n",
       "      <th>nasal</th>\n",
       "      <th>voice</th>\n",
       "      <th>LABIAL</th>\n",
       "      <th>...</th>\n",
       "      <th>strident</th>\n",
       "      <th>lateral</th>\n",
       "      <th>DORSAL</th>\n",
       "      <th>high</th>\n",
       "      <th>low</th>\n",
       "      <th>back</th>\n",
       "      <th>tense</th>\n",
       "      <th>rhotic</th>\n",
       "      <th>rhyme</th>\n",
       "      <th>front</th>\n",
       "    </tr>\n",
       "  </thead>\n",
       "  <tbody>\n",
       "    <tr>\n",
       "      <th>OW</th>\n",
       "      <td>+</td>\n",
       "      <td>-</td>\n",
       "      <td>+</td>\n",
       "      <td>+</td>\n",
       "      <td>-</td>\n",
       "      <td>+</td>\n",
       "      <td>0</td>\n",
       "      <td>0</td>\n",
       "      <td>0</td>\n",
       "      <td>0</td>\n",
       "      <td>...</td>\n",
       "      <td>0</td>\n",
       "      <td>0</td>\n",
       "      <td>0</td>\n",
       "      <td>-</td>\n",
       "      <td>-</td>\n",
       "      <td>+</td>\n",
       "      <td>+</td>\n",
       "      <td>0</td>\n",
       "      <td>0</td>\n",
       "      <td>0</td>\n",
       "    </tr>\n",
       "    <tr>\n",
       "      <th>AA</th>\n",
       "      <td>+</td>\n",
       "      <td>-</td>\n",
       "      <td>+</td>\n",
       "      <td>+</td>\n",
       "      <td>-</td>\n",
       "      <td>+</td>\n",
       "      <td>0</td>\n",
       "      <td>0</td>\n",
       "      <td>0</td>\n",
       "      <td>0</td>\n",
       "      <td>...</td>\n",
       "      <td>0</td>\n",
       "      <td>0</td>\n",
       "      <td>0</td>\n",
       "      <td>-</td>\n",
       "      <td>+</td>\n",
       "      <td>+</td>\n",
       "      <td>+</td>\n",
       "      <td>0</td>\n",
       "      <td>0</td>\n",
       "      <td>0</td>\n",
       "    </tr>\n",
       "    <tr>\n",
       "      <th>AE</th>\n",
       "      <td>+</td>\n",
       "      <td>-</td>\n",
       "      <td>+</td>\n",
       "      <td>+</td>\n",
       "      <td>-</td>\n",
       "      <td>+</td>\n",
       "      <td>0</td>\n",
       "      <td>0</td>\n",
       "      <td>0</td>\n",
       "      <td>0</td>\n",
       "      <td>...</td>\n",
       "      <td>0</td>\n",
       "      <td>0</td>\n",
       "      <td>0</td>\n",
       "      <td>-</td>\n",
       "      <td>+</td>\n",
       "      <td>-</td>\n",
       "      <td>-</td>\n",
       "      <td>0</td>\n",
       "      <td>0</td>\n",
       "      <td>+</td>\n",
       "    </tr>\n",
       "    <tr>\n",
       "      <th>IH</th>\n",
       "      <td>+</td>\n",
       "      <td>-</td>\n",
       "      <td>+</td>\n",
       "      <td>+</td>\n",
       "      <td>-</td>\n",
       "      <td>+</td>\n",
       "      <td>0</td>\n",
       "      <td>0</td>\n",
       "      <td>0</td>\n",
       "      <td>0</td>\n",
       "      <td>...</td>\n",
       "      <td>0</td>\n",
       "      <td>0</td>\n",
       "      <td>0</td>\n",
       "      <td>+</td>\n",
       "      <td>-</td>\n",
       "      <td>-</td>\n",
       "      <td>-</td>\n",
       "      <td>0</td>\n",
       "      <td>0</td>\n",
       "      <td>+</td>\n",
       "    </tr>\n",
       "    <tr>\n",
       "      <th>UH</th>\n",
       "      <td>+</td>\n",
       "      <td>-</td>\n",
       "      <td>+</td>\n",
       "      <td>+</td>\n",
       "      <td>-</td>\n",
       "      <td>+</td>\n",
       "      <td>0</td>\n",
       "      <td>0</td>\n",
       "      <td>0</td>\n",
       "      <td>0</td>\n",
       "      <td>...</td>\n",
       "      <td>0</td>\n",
       "      <td>0</td>\n",
       "      <td>0</td>\n",
       "      <td>+</td>\n",
       "      <td>-</td>\n",
       "      <td>+</td>\n",
       "      <td>-</td>\n",
       "      <td>0</td>\n",
       "      <td>0</td>\n",
       "      <td>0</td>\n",
       "    </tr>\n",
       "    <tr>\n",
       "      <th>AW</th>\n",
       "      <td>+</td>\n",
       "      <td>+</td>\n",
       "      <td>+</td>\n",
       "      <td>+</td>\n",
       "      <td>-</td>\n",
       "      <td>+</td>\n",
       "      <td>0</td>\n",
       "      <td>0</td>\n",
       "      <td>0</td>\n",
       "      <td>0</td>\n",
       "      <td>...</td>\n",
       "      <td>0</td>\n",
       "      <td>0</td>\n",
       "      <td>0</td>\n",
       "      <td>+</td>\n",
       "      <td>-</td>\n",
       "      <td>+</td>\n",
       "      <td>+</td>\n",
       "      <td>0</td>\n",
       "      <td>0</td>\n",
       "      <td>0</td>\n",
       "    </tr>\n",
       "    <tr>\n",
       "      <th>AY</th>\n",
       "      <td>+</td>\n",
       "      <td>+</td>\n",
       "      <td>+</td>\n",
       "      <td>+</td>\n",
       "      <td>-</td>\n",
       "      <td>+</td>\n",
       "      <td>0</td>\n",
       "      <td>0</td>\n",
       "      <td>0</td>\n",
       "      <td>0</td>\n",
       "      <td>...</td>\n",
       "      <td>0</td>\n",
       "      <td>0</td>\n",
       "      <td>0</td>\n",
       "      <td>+</td>\n",
       "      <td>-</td>\n",
       "      <td>-</td>\n",
       "      <td>+</td>\n",
       "      <td>0</td>\n",
       "      <td>0</td>\n",
       "      <td>+</td>\n",
       "    </tr>\n",
       "    <tr>\n",
       "      <th>IY</th>\n",
       "      <td>+</td>\n",
       "      <td>-</td>\n",
       "      <td>+</td>\n",
       "      <td>+</td>\n",
       "      <td>-</td>\n",
       "      <td>+</td>\n",
       "      <td>0</td>\n",
       "      <td>0</td>\n",
       "      <td>0</td>\n",
       "      <td>0</td>\n",
       "      <td>...</td>\n",
       "      <td>0</td>\n",
       "      <td>0</td>\n",
       "      <td>0</td>\n",
       "      <td>+</td>\n",
       "      <td>-</td>\n",
       "      <td>-</td>\n",
       "      <td>+</td>\n",
       "      <td>0</td>\n",
       "      <td>0</td>\n",
       "      <td>+</td>\n",
       "    </tr>\n",
       "    <tr>\n",
       "      <th>OY</th>\n",
       "      <td>+</td>\n",
       "      <td>+</td>\n",
       "      <td>+</td>\n",
       "      <td>+</td>\n",
       "      <td>-</td>\n",
       "      <td>+</td>\n",
       "      <td>0</td>\n",
       "      <td>0</td>\n",
       "      <td>0</td>\n",
       "      <td>0</td>\n",
       "      <td>...</td>\n",
       "      <td>0</td>\n",
       "      <td>0</td>\n",
       "      <td>0</td>\n",
       "      <td>+</td>\n",
       "      <td>-</td>\n",
       "      <td>-</td>\n",
       "      <td>+</td>\n",
       "      <td>0</td>\n",
       "      <td>0</td>\n",
       "      <td>+</td>\n",
       "    </tr>\n",
       "    <tr>\n",
       "      <th>UW</th>\n",
       "      <td>+</td>\n",
       "      <td>-</td>\n",
       "      <td>+</td>\n",
       "      <td>+</td>\n",
       "      <td>-</td>\n",
       "      <td>+</td>\n",
       "      <td>0</td>\n",
       "      <td>0</td>\n",
       "      <td>0</td>\n",
       "      <td>0</td>\n",
       "      <td>...</td>\n",
       "      <td>0</td>\n",
       "      <td>0</td>\n",
       "      <td>0</td>\n",
       "      <td>+</td>\n",
       "      <td>-</td>\n",
       "      <td>+</td>\n",
       "      <td>+</td>\n",
       "      <td>0</td>\n",
       "      <td>0</td>\n",
       "      <td>0</td>\n",
       "    </tr>\n",
       "  </tbody>\n",
       "</table>\n",
       "<p>10 rows × 23 columns</p>\n",
       "</div>"
      ],
      "text/plain": [
       "   syllabic diphthong mainstress stress consonantal sonorant continuant nasal  \\\n",
       "OW        +         -          +      +           -        +          0     0   \n",
       "AA        +         -          +      +           -        +          0     0   \n",
       "AE        +         -          +      +           -        +          0     0   \n",
       "IH        +         -          +      +           -        +          0     0   \n",
       "UH        +         -          +      +           -        +          0     0   \n",
       "AW        +         +          +      +           -        +          0     0   \n",
       "AY        +         +          +      +           -        +          0     0   \n",
       "IY        +         -          +      +           -        +          0     0   \n",
       "OY        +         +          +      +           -        +          0     0   \n",
       "UW        +         -          +      +           -        +          0     0   \n",
       "\n",
       "   voice LABIAL  ... strident lateral DORSAL high low back tense rhotic rhyme  \\\n",
       "OW     0      0  ...        0       0      0    -   -    +     +      0     0   \n",
       "AA     0      0  ...        0       0      0    -   +    +     +      0     0   \n",
       "AE     0      0  ...        0       0      0    -   +    -     -      0     0   \n",
       "IH     0      0  ...        0       0      0    +   -    -     -      0     0   \n",
       "UH     0      0  ...        0       0      0    +   -    +     -      0     0   \n",
       "AW     0      0  ...        0       0      0    +   -    +     +      0     0   \n",
       "AY     0      0  ...        0       0      0    +   -    -     +      0     0   \n",
       "IY     0      0  ...        0       0      0    +   -    -     +      0     0   \n",
       "OY     0      0  ...        0       0      0    +   -    -     +      0     0   \n",
       "UW     0      0  ...        0       0      0    +   -    +     +      0     0   \n",
       "\n",
       "   front  \n",
       "OW     0  \n",
       "AA     0  \n",
       "AE     +  \n",
       "IH     +  \n",
       "UH     0  \n",
       "AW     0  \n",
       "AY     +  \n",
       "IY     +  \n",
       "OY     +  \n",
       "UW     0  \n",
       "\n",
       "[10 rows x 23 columns]"
      ]
     },
     "execution_count": 5,
     "metadata": {},
     "output_type": "execute_result"
    }
   ],
   "source": [
    "# Add phonetic properties for the vowels.\n",
    "# Import phonetic property lookup table and rename columns to match data.\n",
    "\n",
    "phon_props = pd.read_csv('HayesWhiteFeatures.txt', index_col=0, sep='\\t')\n",
    "new_names = [re.sub('1', '', index) for index in phon_props.index]\n",
    "phon_props = phon_props.rename(index=dict(zip(phon_props.index, new_names)))\n",
    "\n",
    "# Add a front feature to make annotation easier (usually 'front' is -back).\n",
    "\n",
    "phon_props['front'] = phon_props.back.str.replace('+','0')\n",
    "phon_props['front'] = phon_props.front.replace('-','+')\n",
    "\n",
    "phon_props.tail(10)"
   ]
  },
  {
   "cell_type": "code",
   "execution_count": 6,
   "metadata": {
    "pycharm": {
     "is_executing": false,
     "name": "#%%\n"
    }
   },
   "outputs": [
    {
     "data": {
      "text/html": [
       "<div>\n",
       "<style scoped>\n",
       "    .dataframe tbody tr th:only-of-type {\n",
       "        vertical-align: middle;\n",
       "    }\n",
       "\n",
       "    .dataframe tbody tr th {\n",
       "        vertical-align: top;\n",
       "    }\n",
       "\n",
       "    .dataframe thead th {\n",
       "        text-align: right;\n",
       "    }\n",
       "</style>\n",
       "<table border=\"1\" class=\"dataframe\">\n",
       "  <thead>\n",
       "    <tr style=\"text-align: right;\">\n",
       "      <th></th>\n",
       "      <th>title</th>\n",
       "      <th>phon_props</th>\n",
       "      <th>vowels</th>\n",
       "      <th>title_stemmed</th>\n",
       "    </tr>\n",
       "  </thead>\n",
       "  <tbody>\n",
       "    <tr>\n",
       "      <th>0</th>\n",
       "      <td>Grumpier Old Men</td>\n",
       "      <td>front front high back back back tense tense te...</td>\n",
       "      <td>AH IY ER OW EH</td>\n",
       "      <td>grumpier old men</td>\n",
       "    </tr>\n",
       "    <tr>\n",
       "      <th>1</th>\n",
       "      <td>Waiting to Exhale</td>\n",
       "      <td>front front tense tense</td>\n",
       "      <td>EY EY</td>\n",
       "      <td>waiting exhale</td>\n",
       "    </tr>\n",
       "    <tr>\n",
       "      <th>2</th>\n",
       "      <td>Sabrina</td>\n",
       "      <td>front high tense</td>\n",
       "      <td>IY</td>\n",
       "      <td>sabrina</td>\n",
       "    </tr>\n",
       "    <tr>\n",
       "      <th>3</th>\n",
       "      <td>The American President</td>\n",
       "      <td>front front front</td>\n",
       "      <td>EH EH EH</td>\n",
       "      <td>american president</td>\n",
       "    </tr>\n",
       "    <tr>\n",
       "      <th>4</th>\n",
       "      <td>It Takes Two</td>\n",
       "      <td>front high back tense tense</td>\n",
       "      <td>EY UW</td>\n",
       "      <td>take two</td>\n",
       "    </tr>\n",
       "    <tr>\n",
       "      <th>5</th>\n",
       "      <td>Clueless</td>\n",
       "      <td>high back tense</td>\n",
       "      <td>UW</td>\n",
       "      <td>clueless</td>\n",
       "    </tr>\n",
       "    <tr>\n",
       "      <th>6</th>\n",
       "      <td>Mighty Aphrodite</td>\n",
       "      <td>front front front front front high high high h...</td>\n",
       "      <td>AY IY AE AY IY</td>\n",
       "      <td>mighty aphrodite</td>\n",
       "    </tr>\n",
       "    <tr>\n",
       "      <th>7</th>\n",
       "      <td>Home for the Holidays</td>\n",
       "      <td>front back back low tense tense tense</td>\n",
       "      <td>OW AA EY</td>\n",
       "      <td>home holiday</td>\n",
       "    </tr>\n",
       "    <tr>\n",
       "      <th>8</th>\n",
       "      <td>Two If by Sea</td>\n",
       "      <td>front high high back tense tense</td>\n",
       "      <td>UW IY</td>\n",
       "      <td>two sea</td>\n",
       "    </tr>\n",
       "    <tr>\n",
       "      <th>9</th>\n",
       "      <td>From Dusk Till Dawn</td>\n",
       "      <td>front high back back low tense</td>\n",
       "      <td>AH IH AA</td>\n",
       "      <td>dusk till dawn</td>\n",
       "    </tr>\n",
       "  </tbody>\n",
       "</table>\n",
       "</div>"
      ],
      "text/plain": [
       "                    title                                         phon_props  \\\n",
       "0        Grumpier Old Men  front front high back back back tense tense te...   \n",
       "1       Waiting to Exhale                            front front tense tense   \n",
       "2                 Sabrina                                   front high tense   \n",
       "3  The American President                                  front front front   \n",
       "4            It Takes Two                        front high back tense tense   \n",
       "5                Clueless                                    high back tense   \n",
       "6        Mighty Aphrodite  front front front front front high high high h...   \n",
       "7   Home for the Holidays              front back back low tense tense tense   \n",
       "8           Two If by Sea                   front high high back tense tense   \n",
       "9     From Dusk Till Dawn                     front high back back low tense   \n",
       "\n",
       "           vowels       title_stemmed  \n",
       "0  AH IY ER OW EH    grumpier old men  \n",
       "1           EY EY      waiting exhale  \n",
       "2              IY             sabrina  \n",
       "3        EH EH EH  american president  \n",
       "4           EY UW            take two  \n",
       "5              UW            clueless  \n",
       "6  AY IY AE AY IY    mighty aphrodite  \n",
       "7        OW AA EY        home holiday  \n",
       "8           UW IY             two sea  \n",
       "9        AH IH AA      dusk till dawn  "
      ]
     },
     "execution_count": 6,
     "metadata": {},
     "output_type": "execute_result"
    }
   ],
   "source": [
    "# Using a lookup table, extract phonetic properties for vowels.\n",
    "# TODO: replace this with average formant values from Ladefoged.\n",
    "\n",
    "def get_phon_prop(transcription, prop, prop_set):\n",
    "    if prop not in prop_set:\n",
    "        print('Oops! \"%s\" is not in the phonetic set' % prop)\n",
    "        return\n",
    "    sounds_with_prop = list(prop_set[prop_set[prop] == '+'].index)\n",
    "    output = []\n",
    "    for sound in transcription.split():\n",
    "        if sound in sounds_with_prop:\n",
    "            output.append(prop)\n",
    "    return ' '.join(output)\n",
    "\n",
    "# PHONetic PROPertieS is the new column for extracted phonetic properties.\n",
    "\n",
    "df['phon_props'] = ''\n",
    "\n",
    "# Extract 'front', back', 'high', and 'low' features.\n",
    "\n",
    "phon_properties_to_extract = ['front', 'high', 'back', 'low', 'tense', 'rhotic']\n",
    "\n",
    "def get_phon_prop_lam(x,y): \n",
    "    return get_phon_prop(x, y, phon_props)\n",
    "\n",
    "for phon_prop in phon_properties_to_extract:\n",
    "    props_to_add = df.vowels.apply(get_phon_prop_lam, args=(phon_prop,))\n",
    "    df['phon_props'] = df.phon_props + ' ' + props_to_add\n",
    "\n",
    "df['phon_props'] = df.phon_props.apply(trim_ws)\n",
    "\n",
    "df[['title', 'phon_props', 'vowels', 'title_stemmed']].head(10)"
   ]
  },
  {
   "cell_type": "markdown",
   "metadata": {},
   "source": [
    "### Data visualization: do romcoms have more high vowels?"
   ]
  },
  {
   "cell_type": "code",
   "execution_count": 7,
   "metadata": {
    "pycharm": {
     "is_executing": false,
     "name": "#%%"
    }
   },
   "outputs": [
    {
     "name": "stdout",
     "output_type": "stream",
     "text": [
      "       label  IY  UW  IH  UH  EY  OW  EH  AE  AA  high  low  front  back  \\\n",
      "0     romcom   1   0   0   0   0   1   1   0   0     1    0      2     3   \n",
      "1     romcom   0   0   0   0   2   0   0   0   0     0    0      2     0   \n",
      "2     romcom   1   0   0   0   0   0   0   0   0     1    0      1     0   \n",
      "3     romcom   0   0   0   0   0   0   3   0   0     0    0      3     0   \n",
      "4     romcom   0   1   0   0   1   0   0   0   0     1    0      1     1   \n",
      "...      ...  ..  ..  ..  ..  ..  ..  ..  ..  ..   ...  ...    ...   ...   \n",
      "5103  horror   0   0   0   0   0   0   0   0   1     1    1      1     1   \n",
      "5104  romcom   1   0   0   0   0   0   0   0   1     1    1      1     1   \n",
      "5105  horror   0   0   0   1   0   0   0   0   0     1    0      0     2   \n",
      "5106  horror   0   0   0   0   0   0   0   0   1     1    1      0     3   \n",
      "5107  horror   0   0   1   0   0   1   1   1   0     1    1      3     1   \n",
      "\n",
      "      rhotic  tense  \n",
      "0          1      3  \n",
      "1          0      2  \n",
      "2          0      1  \n",
      "3          0      0  \n",
      "4          0      2  \n",
      "...      ...    ...  \n",
      "5103       0      2  \n",
      "5104       0      2  \n",
      "5105       0      0  \n",
      "5106       1      3  \n",
      "5107       0      1  \n",
      "\n",
      "[5108 rows x 16 columns]\n"
     ]
    }
   ],
   "source": [
    "# Calculate frequency of each vowel and property for each title.\n",
    "\n",
    "counts_by_syllable = pd.DataFrame({'label': df.label})\n",
    "\n",
    "vowel_list = ['IY', 'UW', 'IH', 'UH', 'EY', 'OW', 'EH', 'AE', 'AA']\n",
    "\n",
    "for vowel in vowel_list:\n",
    "    counts_by_syllable[vowel] = df.vowels.str.count(vowel)\n",
    "    \n",
    "prop_list = ['high', 'low', 'front', 'back', 'rhotic', 'tense']\n",
    "\n",
    "for prop in prop_list:\n",
    "    counts_by_syllable[prop] = df.phon_props.str.count(prop)\n",
    "\n",
    "print(counts_by_syllable)"
   ]
  },
  {
   "cell_type": "code",
   "execution_count": 8,
   "metadata": {
    "pycharm": {
     "is_executing": false,
     "name": "#%%\n"
    }
   },
   "outputs": [
    {
     "name": "stdout",
     "output_type": "stream",
     "text": [
      "     label variable  value total_vowels proportion_of_syllables\n",
      "0   horror       IY    902         7473                0.120701\n",
      "1   romcom       IY    893         6249                0.142903\n",
      "2   horror       UW    256         7473               0.0342567\n",
      "3   romcom       UW    314         6249                0.050248\n",
      "4   horror       IH    599         7473               0.0801552\n",
      "5   romcom       IH    584         6249                0.093455\n",
      "6   horror       UH    103         7473                0.013783\n",
      "7   romcom       UH     95         6249               0.0152024\n",
      "8   horror       EY    528         7473               0.0706544\n",
      "9   romcom       EY    478         6249               0.0764922\n",
      "10  horror       OW    379         7473               0.0507159\n",
      "11  romcom       OW    319         6249               0.0510482\n",
      "12  horror       EH    863         7473                0.115482\n",
      "13  romcom       EH    664         6249                0.106257\n",
      "14  horror       AE    789         7473                 0.10558\n",
      "15  romcom       AE    539         6249               0.0862538\n",
      "16  horror       AA    936         7473                0.125251\n",
      "17  romcom       AA    727         6249                0.116339\n",
      "18  horror     high   2667         7473                0.356885\n",
      "19  romcom     high   2450         6249                0.392063\n",
      "20  horror      low   1725         7473                0.230831\n",
      "21  romcom      low   1266         6249                0.202592\n",
      "22  horror    front   4318         7473                0.577813\n",
      "23  romcom    front   3639         6249                0.582333\n",
      "24  horror     back   3154         7473                0.422053\n",
      "25  romcom     back   2610         6249                0.417667\n",
      "26  horror   rhotic    946         7473                0.126589\n",
      "27  romcom   rhotic    625         6249                0.100016\n",
      "28  horror    tense   4754         7473                0.636157\n",
      "29  romcom    tense   3920         6249                  0.6273\n"
     ]
    }
   ],
   "source": [
    "# Create a dataframe with counts for every vowel for easier plotting.\n",
    "\n",
    "plot_sums = counts_by_syllable.groupby('label', as_index=False).sum()\n",
    "plot_sums = plot_sums.melt(id_vars=['label'])\n",
    "\n",
    "def count_words(text):\n",
    "    return len(text.split(' '))\n",
    "\n",
    "horror_total = df.loc[df.label == 'horror', 'vowels'].apply(count_words).sum()\n",
    "rom_com_total = df.loc[df.label == 'romcom', 'vowels'].apply(count_words).sum()\n",
    "\n",
    "plot_sums['total_vowels'] = 'nan'\n",
    "plot_sums.loc[plot_sums.label == 'horror', 'total_vowels'] = horror_total\n",
    "plot_sums.loc[plot_sums.label == 'romcom', 'total_vowels'] = rom_com_total\n",
    "plot_sums['proportion_of_syllables'] = plot_sums.value/plot_sums.total_vowels\n",
    "\n",
    "print(plot_sums)"
   ]
  },
  {
   "cell_type": "code",
   "execution_count": 9,
   "metadata": {
    "pycharm": {
     "is_executing": false,
     "name": "#%%\n"
    }
   },
   "outputs": [
    {
     "data": {
      "text/plain": [
       "<seaborn.axisgrid.FacetGrid at 0x129a5af10>"
      ]
     },
     "execution_count": 9,
     "metadata": {},
     "output_type": "execute_result"
    },
    {
     "data": {
      "image/png": "[encoded data removed]",
      "text/plain": [
       "<Figure size 485.625x432 with 1 Axes>"
      ]
     },
     "metadata": {
      "needs_background": "light"
     },
     "output_type": "display_data"
    },
    {
     "data": {
      "image/png": "[encoded data removed]",
      "text/plain": [
       "<Figure size 508.625x432 with 1 Axes>"
      ]
     },
     "metadata": {
      "needs_background": "light"
     },
     "output_type": "display_data"
    }
   ],
   "source": [
    "# Plot distribution of vowels for each genre.\n",
    "\n",
    "bool_is_a_prop = plot_sums.variable.apply(\n",
    "    lambda x : x in ['high', 'back', 'front', 'low', 'tense', 'rhotic'])\n",
    "\n",
    "plot_just_vowels = plot_sums[~bool_is_a_prop]\n",
    "\n",
    "g = sns.catplot(x ='label', y='proportion_of_syllables',\n",
    "                hue='variable', data=plot_just_vowels, \n",
    "                height=6, kind='bar', palette='Blues')\n",
    "g.despine(left=True)\n",
    "g.set_ylabels('proportion of syllables in genre with vowel')\n",
    "g.set_xlabels('vowel')\n",
    "\n",
    "g = sns.catplot(x ='variable', y='proportion_of_syllables',\n",
    "                hue='label', data=plot_just_vowels, \n",
    "                height=6, kind='bar', palette='Blues')\n",
    "g.despine(left=True)\n",
    "g.set_ylabels('proportion of syllables in genre with vowel')\n",
    "g.set_xlabels('vowel')"
   ]
  },
  {
   "cell_type": "code",
   "execution_count": 10,
   "metadata": {
    "pycharm": {
     "is_executing": false,
     "name": "#%%\n"
    }
   },
   "outputs": [
    {
     "data": {
      "text/plain": [
       "11                                 Screamers\n",
       "12                               Mary Reilly\n",
       "28                              The Prophecy\n",
       "29                                   Species\n",
       "30                              Castle Freak\n",
       "39               Mary Shelley's Frankenstein\n",
       "65                            Body Snatchers\n",
       "92           Candyman: Farewell to the Flesh\n",
       "98                                Diabolique\n",
       "118    Halloween: The Curse of Michael Myers\n",
       "164                                   Aliens\n",
       "165                                    Alien\n",
       "178                                   Alien³\n",
       "179              Amityville: It's About Time\n",
       "180                    Amityville: Dollhouse\n",
       "181             Amityville: A New Generation\n",
       "182            Amityville II: The Possession\n",
       "183                    The Amityville Horror\n",
       "184                     The Amityville Curse\n",
       "187                              Audrey Rose\n",
       "Name: title, dtype: string"
      ]
     },
     "execution_count": 10,
     "metadata": {},
     "output_type": "execute_result"
    }
   ],
   "source": [
    "# Question: What are the horror movies with 'eee'?\n",
    "# Answer: really semantically loaded words, and some franchises.\n",
    "\n",
    "# Sound symbolism will have the strongest effect (and be most useful)\n",
    "# when there's freedom of choice -- strongest in novel coinages.\n",
    "# TODO: look at hapaxes and see if effects are stronger.\n",
    "\n",
    "df[(df.vowels.str.contains('IY')) & (df.label == 'horror')].title.head(20)"
   ]
  },
  {
   "cell_type": "code",
   "execution_count": 11,
   "metadata": {
    "pycharm": {
     "is_executing": false,
     "name": "#%%\n"
    }
   },
   "outputs": [
    {
     "data": {
      "text/plain": [
       "<seaborn.axisgrid.FacetGrid at 0x11ac296d0>"
      ]
     },
     "execution_count": 11,
     "metadata": {},
     "output_type": "execute_result"
    },
    {
     "data": {
      "image/png": "[encoded data removed]",
      "text/plain": [
       "<Figure size 508.625x432 with 1 Axes>"
      ]
     },
     "metadata": {
      "needs_background": "light"
     },
     "output_type": "display_data"
    }
   ],
   "source": [
    "# Plot distribution of properties for each genre.\n",
    "\n",
    "plot_just_props = plot_sums[bool_is_a_prop]\n",
    "\n",
    "g = sns.catplot(x='variable', y='proportion_of_syllables', \n",
    "                hue='label', data=plot_just_props,\n",
    "                height=6, kind='bar', palette='Blues')\n",
    "g.despine(left=True)\n",
    "g.set_ylabels('proportion of syllables in genre with property')\n",
    "g.set_xlabels('vowel property')"
   ]
  },
  {
   "cell_type": "code",
   "execution_count": 12,
   "metadata": {
    "pycharm": {
     "is_executing": false,
     "name": "#%%\n"
    }
   },
   "outputs": [
    {
     "name": "stdout",
     "output_type": "stream",
     "text": [
      "     label variable  value  total_words  proportion_of_words\n",
      "0   horror       IY    801         5379             0.148912\n",
      "1   romcom       IY    771         4601             0.167572\n",
      "2   horror       UW    239         5379             0.044432\n",
      "3   romcom       UW    293         4601             0.063682\n",
      "4   horror       IH    562         5379             0.104480\n",
      "5   romcom       IH    523         4601             0.113671\n",
      "6   horror       UH    101         5379             0.018777\n",
      "7   romcom       UH     92         4601             0.019996\n",
      "8   horror       EY    494         5379             0.091839\n",
      "9   romcom       EY    433         4601             0.094110\n",
      "10  horror       OW    355         5379             0.065997\n",
      "11  romcom       OW    284         4601             0.061726\n",
      "12  horror       EH    762         5379             0.141662\n",
      "13  romcom       EH    575         4601             0.124973\n",
      "14  horror       AE    715         5379             0.132924\n",
      "15  romcom       AE    475         4601             0.103238\n",
      "16  horror       AA    827         5379             0.153746\n",
      "17  romcom       AA    621         4601             0.134971\n",
      "18  horror     high   1864         5379             0.346533\n",
      "19  romcom     high   1587         4601             0.344925\n",
      "20  horror      low   1396         5379             0.259528\n",
      "21  romcom      low    997         4601             0.216692\n",
      "22  horror    front   2384         5379             0.443205\n",
      "23  romcom    front   1923         4601             0.417953\n",
      "24  horror     back   1987         5379             0.369400\n",
      "25  romcom     back   1628         4601             0.353836\n",
      "26  horror   rhotic    842         5379             0.156535\n",
      "27  romcom   rhotic    552         4601             0.119974\n",
      "28  horror    tense   2452         5379             0.455847\n",
      "29  romcom    tense   1946         4601             0.422952\n"
     ]
    }
   ],
   "source": [
    "# Instead of normalizing by number of syllables, normalize by number of words.\n",
    "# Calculate frequency of words containing at least one instance of vowel or property\n",
    "\n",
    "counts_by_word = pd.DataFrame({'label': df.label})\n",
    "\n",
    "vowel_list = ['IY', 'UW', 'IH', 'UH', 'EY', 'OW', 'EH', 'AE', 'AA']\n",
    "prop_list = ['high', 'low', 'front', 'back', 'rhotic', 'tense']\n",
    "\n",
    "for vowel in vowel_list:\n",
    "    counts_by_word[vowel] = df.vowels.str.contains(vowel)*1\n",
    "\n",
    "for prop in prop_list:\n",
    "    counts_by_word[prop] = df.phon_props.str.contains(prop)*1\n",
    "\n",
    "plot_sums = counts_by_word.groupby('label', as_index=False).sum()\n",
    "plot_sums = plot_sums.melt(id_vars=['label'])\n",
    "\n",
    "horror_total = df.loc[df.label == 'horror', 'title_processed'].apply(count_words).sum()\n",
    "rom_com_total = df.loc[df.label == 'romcom', 'title_processed'].apply(count_words).sum()\n",
    "\n",
    "plot_sums['total_words'] = 'nan'\n",
    "plot_sums.loc[plot_sums.label == 'horror', 'total_words'] = horror_total\n",
    "plot_sums.loc[plot_sums.label == 'romcom', 'total_words'] = rom_com_total\n",
    "plot_sums['value'] = pd.to_numeric(plot_sums.value)\n",
    "plot_sums['total_words'] = pd.to_numeric(plot_sums.total_words)\n",
    "\n",
    "plot_sums['proportion_of_words'] = (plot_sums.value/plot_sums.total_words)\n",
    "\n",
    "print(plot_sums)\n"
   ]
  },
  {
   "cell_type": "code",
   "execution_count": 13,
   "metadata": {
    "pycharm": {
     "is_executing": false,
     "name": "#%%\n"
    }
   },
   "outputs": [
    {
     "data": {
      "text/plain": [
       "<seaborn.axisgrid.FacetGrid at 0x129c47310>"
      ]
     },
     "execution_count": 13,
     "metadata": {},
     "output_type": "execute_result"
    },
    {
     "data": {
      "image/png": "[encoded data removed]",
      "text/plain": [
       "<Figure size 508.625x432 with 1 Axes>"
      ]
     },
     "metadata": {
      "needs_background": "light"
     },
     "output_type": "display_data"
    },
    {
     "data": {
      "image/png": "[encoded data removed]",
      "text/plain": [
       "<Figure size 508.625x432 with 1 Axes>"
      ]
     },
     "metadata": {
      "needs_background": "light"
     },
     "output_type": "display_data"
    }
   ],
   "source": [
    "plot_just_vowels = plot_sums[~bool_is_a_prop]\n",
    "\n",
    "g = sns.catplot(x ='variable', y='proportion_of_words',\n",
    "                hue='label', data=plot_just_vowels,\n",
    "                height=6, kind='bar', palette='Blues')\n",
    "g.despine(left=True)\n",
    "g.set_ylabels('proportion of words in genre with vowel')\n",
    "g.set_xlabels('vowel')\n",
    "\n",
    "plot_just_props = plot_sums[bool_is_a_prop]\n",
    "g = sns.catplot(x='variable', y='proportion_of_words', \n",
    "                hue='label', data=plot_just_props,\n",
    "                height=6, kind='bar', palette='Blues')\n",
    "g.despine(left=True)\n",
    "g.set_ylabels('proportion of words in genre with property')\n",
    "g.set_xlabels('vowel property')"
   ]
  },
  {
   "cell_type": "markdown",
   "metadata": {},
   "source": [
    "### Fitting and testing some classification models"
   ]
  },
  {
   "cell_type": "code",
   "execution_count": 14,
   "metadata": {
    "pycharm": {
     "is_executing": false,
     "name": "#%%\n"
    }
   },
   "outputs": [
    {
     "name": "stdout",
     "output_type": "stream",
     "text": [
      "3064 training items; 2044 testing items\n"
     ]
    }
   ],
   "source": [
    "# Create series with texts to be vectorized.\n",
    "# Props and words = mixed bag of props and words.\n",
    "# Vowels and words = mixed bag of vowels and words.\n",
    "\n",
    "df['props_and_words'] = df.title_processed + ' ' + df.phon_props\n",
    "df['vowels_and_words'] =  df.title_processed +  ' ' + df.vowels\n",
    "\n",
    "# Encode the labels: 1 = romcom; 0 = horror.\n",
    "\n",
    "le = preprocessing.LabelEncoder()\n",
    "classes_encoded = le.fit_transform(df.label)\n",
    "\n",
    "# Split data into train and test sets. Use indices for X since the\n",
    "# features need to be fit independently for training and test data.\n",
    "# (Since min_df = 2 in featurizer, and in case I add tf-idf.)\n",
    "\n",
    "X = df.index.to_list()\n",
    "y = classes_encoded\n",
    "X_train, X_test, y_train, y_test = train_test_split(X, y, test_size=0.4)\n",
    "y_true = y_test\n",
    "\n",
    "print('%s training items; %s testing items' % (len(X_train), len(X_test)))"
   ]
  },
  {
   "cell_type": "code",
   "execution_count": 15,
   "metadata": {
    "pycharm": {
     "is_executing": false,
     "name": "#%%\n"
    }
   },
   "outputs": [],
   "source": [
    "# Eval model is a function that prints: classification report, \n",
    "# confusion matrix, ROC curve.\n",
    "\n",
    "def eval_model(model, X_test, y_test, labels, model_name=\"model\"):\n",
    "    y_score = model.predict_proba(X_test)[:,1]\n",
    "    y_pred = model.predict(X_test)\n",
    "    \n",
    "    print(classification_report(y_test, y_pred))\n",
    "    \n",
    "    disp = plot_confusion_matrix(model, X_test, y_test,\n",
    "                                 display_labels=np.array(labels),\n",
    "                                 cmap=plt.cm.Blues,\n",
    "                                 normalize=None, values_format='G')\n",
    "    title = ('Confusion matrix for %s'% model_name)\n",
    "    disp.ax_.set_title(title)\n",
    "    \n",
    "    disp = plot_confusion_matrix(model, X_test, y_test,\n",
    "                                 display_labels=np.array(labels),\n",
    "                                 cmap=plt.cm.Blues,\n",
    "                                 normalize='true')\n",
    "    title = ('Confusion matrix for %s'% model_name)\n",
    "    disp.ax_.set_title(title)\n",
    "    \n",
    "    disp = plot_roc_curve(model, X_test, y_test)\n",
    "    title = ('ROC curve for %s' % model_name)\n",
    "    disp.ax_.set_title(title)"
   ]
  },
  {
   "cell_type": "code",
   "execution_count": 16,
   "metadata": {
    "pycharm": {
     "is_executing": false,
     "name": "#%%\n"
    }
   },
   "outputs": [
    {
     "name": "stdout",
     "output_type": "stream",
     "text": [
      "Training items, number of features: (3064, 895)\n",
      "Sample training data:\n"
     ]
    },
    {
     "data": {
      "text/plain": [
       "0      grumpier old men\n",
       "1        waiting exhale\n",
       "2               sabrina\n",
       "3    american president\n",
       "4              take two\n",
       "Name: title_stemmed, dtype: object"
      ]
     },
     "execution_count": 16,
     "metadata": {},
     "output_type": "execute_result"
    }
   ],
   "source": [
    "# Model 1: bag of words logistic regression.\n",
    "\n",
    "vect_w = CountVectorizer(min_df = 2)\n",
    "X_train_w = vect_w.fit_transform(df.title_stemmed.iloc[X_train])\n",
    "X_test_w = vect_w.transform(df.title_stemmed.iloc[X_test])\n",
    "\n",
    "print('Training items, number of features: ' + str(X_train_w.shape))\n",
    "print('Sample training data:')\n",
    "df.title_stemmed.head()"
   ]
  },
  {
   "cell_type": "code",
   "execution_count": 17,
   "metadata": {
    "pycharm": {
     "is_executing": false,
     "name": "#%%\n"
    }
   },
   "outputs": [
    {
     "name": "stdout",
     "output_type": "stream",
     "text": [
      "              precision    recall  f1-score   support\n",
      "\n",
      "           0       0.68      0.89      0.77      1139\n",
      "           1       0.77      0.46      0.58       905\n",
      "\n",
      "    accuracy                           0.70      2044\n",
      "   macro avg       0.73      0.68      0.67      2044\n",
      "weighted avg       0.72      0.70      0.68      2044\n",
      "\n"
     ]
    },
    {
     "data": {
      "image/png": "[encoded data removed]",
      "text/plain": [
       "<Figure size 432x288 with 2 Axes>"
      ]
     },
     "metadata": {
      "needs_background": "light"
     },
     "output_type": "display_data"
    },
    {
     "data": {
      "image/png": "[encoded data removed]",
      "text/plain": [
       "<Figure size 432x288 with 2 Axes>"
      ]
     },
     "metadata": {
      "needs_background": "light"
     },
     "output_type": "display_data"
    },
    {
     "data": {
      "image/png": "[encoded data removed]",
      "text/plain": [
       "<Figure size 432x288 with 1 Axes>"
      ]
     },
     "metadata": {
      "needs_background": "light"
     },
     "output_type": "display_data"
    }
   ],
   "source": [
    "# Fit and evaluate a logistic regression on the test data.\n",
    "\n",
    "mod_w = LogisticRegression()\n",
    "mod_w.fit(X_train_w, y_train)\n",
    "\n",
    "eval_model(mod_w, X_test_w, y_test, ['horror', 'romcom'], \n",
    "           'bag of words model')\n",
    "\n",
    "# This model is much better at classifying horror than romance,\n",
    "# at least given the default decision rule."
   ]
  },
  {
   "cell_type": "code",
   "execution_count": 18,
   "metadata": {
    "pycharm": {
     "is_executing": false,
     "name": "#%%\n"
    }
   },
   "outputs": [
    {
     "name": "stdout",
     "output_type": "stream",
     "text": [
      "Training items, number of features: (3064, 917)\n",
      "Sample training data:\n"
     ]
    },
    {
     "data": {
      "text/plain": [
       "0    grumpier old men AH IY ER OW EH\n",
       "1               waiting exhale EY EY\n",
       "2                         sabrina IY\n",
       "3        american president EH EH EH\n",
       "4                    takes two EY UW\n",
       "Name: vowels_and_words, dtype: object"
      ]
     },
     "execution_count": 18,
     "metadata": {},
     "output_type": "execute_result"
    }
   ],
   "source": [
    "# Model 2: mixed bag of vowels + words\n",
    "\n",
    "vect_vw = CountVectorizer(min_df = 2)\n",
    "X_train_vw = vect_vw.fit_transform(df.vowels_and_words.iloc[X_train])\n",
    "X_test_vw = vect_vw.transform(df.vowels_and_words.iloc[X_test])\n",
    "\n",
    "print('Training items, number of features: ' + str(X_train_vw.shape))\n",
    "print('Sample training data:')\n",
    "df.vowels_and_words.head()"
   ]
  },
  {
   "cell_type": "code",
   "execution_count": 19,
   "metadata": {
    "pycharm": {
     "name": "#%%\n"
    }
   },
   "outputs": [
    {
     "name": "stdout",
     "output_type": "stream",
     "text": [
      "              precision    recall  f1-score   support\n",
      "\n",
      "           0       0.69      0.83      0.75      1139\n",
      "           1       0.71      0.53      0.61       905\n",
      "\n",
      "    accuracy                           0.70      2044\n",
      "   macro avg       0.70      0.68      0.68      2044\n",
      "weighted avg       0.70      0.70      0.69      2044\n",
      "\n"
     ]
    },
    {
     "data": {
      "image/png": "[encoded data removed]",
      "text/plain": [
       "<Figure size 432x288 with 2 Axes>"
      ]
     },
     "metadata": {
      "needs_background": "light"
     },
     "output_type": "display_data"
    },
    {
     "data": {
      "image/png": "[encoded data removed]",
      "text/plain": [
       "<Figure size 432x288 with 2 Axes>"
      ]
     },
     "metadata": {
      "needs_background": "light"
     },
     "output_type": "display_data"
    },
    {
     "data": {
      "image/png": "[encoded data removed]",
      "text/plain": [
       "<Figure size 432x288 with 1 Axes>"
      ]
     },
     "metadata": {
      "needs_background": "light"
     },
     "output_type": "display_data"
    }
   ],
   "source": [
    "mod_vw = LogisticRegression()\n",
    "mod_vw.fit(X_train_vw, y_train)\n",
    "\n",
    "eval_model(mod_vw, X_test_vw, y_test, ['horror', 'romcom'], \n",
    "           'mixed bag of vowels and words model')\n",
    "\n",
    "# Similar F1-score and AUC, but much better at romance than the \n",
    "# bag of words model."
   ]
  },
  {
   "cell_type": "code",
   "execution_count": 20,
   "metadata": {
    "pycharm": {
     "name": "#%%\n"
    }
   },
   "outputs": [
    {
     "name": "stdout",
     "output_type": "stream",
     "text": [
      "Training items, number of features: (3064, 907)\n",
      "Sample training data:\n"
     ]
    },
    {
     "data": {
      "text/plain": [
       "0    grumpier old men front front high back back ba...\n",
       "1               waiting exhale front front tense tense\n",
       "2                             sabrina front high tense\n",
       "3                 american president front front front\n",
       "4                takes two front high back tense tense\n",
       "Name: props_and_words, dtype: object"
      ]
     },
     "execution_count": 20,
     "metadata": {},
     "output_type": "execute_result"
    }
   ],
   "source": [
    "# Model 3: mixed bag of props + words\n",
    "\n",
    "vect_pw = CountVectorizer(min_df = 2)\n",
    "X_train_pw = vect_pw.fit_transform(df.props_and_words.iloc[X_train])\n",
    "X_test_pw = vect_pw.transform(df.props_and_words.iloc[X_test])\n",
    "\n",
    "print('Training items, number of features: ' + str(X_train_pw.shape))\n",
    "print('Sample training data:')\n",
    "df.props_and_words.head()"
   ]
  },
  {
   "cell_type": "code",
   "execution_count": 21,
   "metadata": {
    "pycharm": {
     "is_executing": false,
     "name": "#%%\n"
    }
   },
   "outputs": [
    {
     "name": "stdout",
     "output_type": "stream",
     "text": [
      "              precision    recall  f1-score   support\n",
      "\n",
      "           0       0.69      0.83      0.75      1139\n",
      "           1       0.71      0.53      0.61       905\n",
      "\n",
      "    accuracy                           0.70      2044\n",
      "   macro avg       0.70      0.68      0.68      2044\n",
      "weighted avg       0.70      0.70      0.69      2044\n",
      "\n"
     ]
    },
    {
     "data": {
      "image/png": "[encoded data removed]",
      "text/plain": [
       "<Figure size 432x288 with 2 Axes>"
      ]
     },
     "metadata": {
      "needs_background": "light"
     },
     "output_type": "display_data"
    },
    {
     "data": {
      "image/png": "[encoded data removed]",
      "text/plain": [
       "<Figure size 432x288 with 2 Axes>"
      ]
     },
     "metadata": {
      "needs_background": "light"
     },
     "output_type": "display_data"
    },
    {
     "data": {
      "image/png": "[encoded data removed]",
      "text/plain": [
       "<Figure size 432x288 with 1 Axes>"
      ]
     },
     "metadata": {
      "needs_background": "light"
     },
     "output_type": "display_data"
    }
   ],
   "source": [
    "# Max iterations increased because the properties aren't scaled.\n",
    "# The word features are mostly binary (1/0) for a document but the \n",
    "# property features can get much higher (6-7). Scaling sparse\n",
    "# vectors seems like a bad idea, so the answer is probably to\n",
    "# binarize.\n",
    "\n",
    "mod_pw = LogisticRegression(max_iter = 200)\n",
    "mod_pw.fit(X_train_pw, y_train)\n",
    "\n",
    "eval_model(mod_pw, X_test_pw, y_test, ['horror', 'romcom'], \n",
    "           'mixed bag of properties and words model')"
   ]
  },
  {
   "cell_type": "code",
   "execution_count": 22,
   "metadata": {
    "pycharm": {
     "name": "#%%\n"
    }
   },
   "outputs": [
    {
     "name": "stdout",
     "output_type": "stream",
     "text": [
      "Training items, number of features: (3064, 14)\n",
      "Sample training data:\n"
     ]
    },
    {
     "data": {
      "text/plain": [
       "0    AH IY ER OW EH\n",
       "1             EY EY\n",
       "2                IY\n",
       "3          EH EH EH\n",
       "4             EY UW\n",
       "Name: vowels, dtype: object"
      ]
     },
     "execution_count": 22,
     "metadata": {},
     "output_type": "execute_result"
    }
   ],
   "source": [
    "# Model 4: bag of vowels\n",
    "\n",
    "vect_v = CountVectorizer(min_df = 2)\n",
    "X_train_v = vect_v.fit_transform(df.vowels.iloc[X_train])\n",
    "X_test_v = vect_v.transform(df.vowels.iloc[X_test])\n",
    "\n",
    "                            \n",
    "print('Training items, number of features: ' + str(X_train_v.shape))\n",
    "print('Sample training data:')\n",
    "df.vowels.head()"
   ]
  },
  {
   "cell_type": "code",
   "execution_count": 23,
   "metadata": {
    "pycharm": {
     "is_executing": false,
     "name": "#%%\n"
    }
   },
   "outputs": [
    {
     "name": "stdout",
     "output_type": "stream",
     "text": [
      "              precision    recall  f1-score   support\n",
      "\n",
      "           0       0.59      0.83      0.69      1139\n",
      "           1       0.56      0.27      0.37       905\n",
      "\n",
      "    accuracy                           0.58      2044\n",
      "   macro avg       0.58      0.55      0.53      2044\n",
      "weighted avg       0.58      0.58      0.55      2044\n",
      "\n"
     ]
    },
    {
     "data": {
      "image/png": "[encoded data removed]",
      "text/plain": [
       "<Figure size 432x288 with 2 Axes>"
      ]
     },
     "metadata": {
      "needs_background": "light"
     },
     "output_type": "display_data"
    },
    {
     "data": {
      "image/png": "[encoded data removed]",
      "text/plain": [
       "<Figure size 432x288 with 2 Axes>"
      ]
     },
     "metadata": {
      "needs_background": "light"
     },
     "output_type": "display_data"
    },
    {
     "data": {
      "image/png": "[encoded data removed]",
      "text/plain": [
       "<Figure size 432x288 with 1 Axes>"
      ]
     },
     "metadata": {
      "needs_background": "light"
     },
     "output_type": "display_data"
    }
   ],
   "source": [
    "mod_v = LogisticRegression()\n",
    "mod_v.fit(X_train_v, y_train)\n",
    "\n",
    "eval_model(mod_v, X_test_v, y_test, ['horror', 'romcom'], \n",
    "           'bag of vowels model')"
   ]
  },
  {
   "cell_type": "code",
   "execution_count": 24,
   "metadata": {
    "pycharm": {
     "is_executing": false,
     "name": "#%%\n"
    }
   },
   "outputs": [
    {
     "name": "stdout",
     "output_type": "stream",
     "text": [
      "Training items, number of features: (3064, 6)\n",
      "Sample training data:\n"
     ]
    },
    {
     "data": {
      "text/plain": [
       "0    front front high back back back tense tense te...\n",
       "1                              front front tense tense\n",
       "2                                     front high tense\n",
       "3                                    front front front\n",
       "4                          front high back tense tense\n",
       "Name: phon_props, dtype: object"
      ]
     },
     "execution_count": 24,
     "metadata": {},
     "output_type": "execute_result"
    }
   ],
   "source": [
    "# Model 5: bag of phon props\n",
    "\n",
    "vect_p = CountVectorizer(min_df = 2)\n",
    "X_train_p = vect_p.fit_transform(df.phon_props.iloc[X_train])\n",
    "X_test_p = vect_p.transform(df.phon_props.iloc[X_test])\n",
    "\n",
    "print('Training items, number of features: ' + str(X_train_p.shape))\n",
    "print('Sample training data:')\n",
    "df.phon_props.head()"
   ]
  },
  {
   "cell_type": "code",
   "execution_count": 25,
   "metadata": {
    "pycharm": {
     "is_executing": false,
     "name": "#%% \n"
    }
   },
   "outputs": [
    {
     "name": "stdout",
     "output_type": "stream",
     "text": [
      "              precision    recall  f1-score   support\n",
      "\n",
      "           0       0.58      0.89      0.71      1139\n",
      "           1       0.59      0.19      0.29       905\n",
      "\n",
      "    accuracy                           0.58      2044\n",
      "   macro avg       0.59      0.54      0.50      2044\n",
      "weighted avg       0.59      0.58      0.52      2044\n",
      "\n"
     ]
    },
    {
     "data": {
      "image/png": "[encoded data removed]",
      "text/plain": [
       "<Figure size 432x288 with 2 Axes>"
      ]
     },
     "metadata": {
      "needs_background": "light"
     },
     "output_type": "display_data"
    },
    {
     "data": {
      "image/png": "[encoded data removed]",
      "text/plain": [
       "<Figure size 432x288 with 2 Axes>"
      ]
     },
     "metadata": {
      "needs_background": "light"
     },
     "output_type": "display_data"
    },
    {
     "data": {
      "image/png": "[encoded data removed]",
      "text/plain": [
       "<Figure size 432x288 with 1 Axes>"
      ]
     },
     "metadata": {
      "needs_background": "light"
     },
     "output_type": "display_data"
    }
   ],
   "source": [
    "mod_p = LogisticRegression()\n",
    "mod_p.fit(X_train_p, y_train)\n",
    "\n",
    "eval_model(mod_p, X_test_p, y_test, ['horror', 'romcom'], \n",
    "           'bag of phonetic properties model')"
   ]
  },
  {
   "cell_type": "code",
   "execution_count": 26,
   "metadata": {},
   "outputs": [
    {
     "name": "stdout",
     "output_type": "stream",
     "text": [
      "Training items, number of features: (3064, 6)\n",
      "Sample training data:\n"
     ]
    },
    {
     "data": {
      "text/plain": [
       "0    GG RR MM PP LL DD MM NN AH IY ER OW EH\n",
       "1                WW TT NG KK SS HH LL EY EY\n",
       "2                            SS BB RR NN IY\n",
       "3    MM RR KK NN PP RR ZZ DD NN TT EH EH EH\n",
       "4                         TT KK SS TT EY UW\n",
       "dtype: object"
      ]
     },
     "execution_count": 26,
     "metadata": {},
     "output_type": "execute_result"
    }
   ],
   "source": [
    "# Model 6: trying out consonants\n",
    "\n",
    "consonants_vowels = df.consonants + ' ' + df.vowels\n",
    "consonants_vowels = consonants_vowels.apply(trim_ws)\n",
    "consonants_vowels_words = consonants_vowels + ' ' + df.title_stemmed\n",
    "\n",
    "vect_cv = CountVectorizer(min_df = 2)\n",
    "X_train_cv = vect_cv.fit_transform(consonants_vowels.iloc[X_train])\n",
    "X_test_cv = vect_cv.transform(consonants_vowels.iloc[X_test])\n",
    "\n",
    "print('Training items, number of features: ' + str(X_train_p.shape))\n",
    "print('Sample training data:')\n",
    "consonants_vowels.head()"
   ]
  },
  {
   "cell_type": "code",
   "execution_count": 27,
   "metadata": {},
   "outputs": [
    {
     "name": "stdout",
     "output_type": "stream",
     "text": [
      "              precision    recall  f1-score   support\n",
      "\n",
      "           0       0.61      0.79      0.69      1139\n",
      "           1       0.58      0.37      0.45       905\n",
      "\n",
      "    accuracy                           0.60      2044\n",
      "   macro avg       0.60      0.58      0.57      2044\n",
      "weighted avg       0.60      0.60      0.58      2044\n",
      "\n"
     ]
    },
    {
     "data": {
      "image/png": "[encoded data removed]",
      "text/plain": [
       "<Figure size 432x288 with 2 Axes>"
      ]
     },
     "metadata": {
      "needs_background": "light"
     },
     "output_type": "display_data"
    },
    {
     "data": {
      "image/png": "[encoded data removed]",
      "text/plain": [
       "<Figure size 432x288 with 2 Axes>"
      ]
     },
     "metadata": {
      "needs_background": "light"
     },
     "output_type": "display_data"
    },
    {
     "data": {
      "image/png": "[encoded data removed]",
      "text/plain": [
       "<Figure size 432x288 with 1 Axes>"
      ]
     },
     "metadata": {
      "needs_background": "light"
     },
     "output_type": "display_data"
    }
   ],
   "source": [
    "mod_cv = LogisticRegression()\n",
    "mod_cv.fit(X_train_cv, y_train)\n",
    "\n",
    "eval_model(mod_cv, X_test_cv, y_test, ['horror', 'romcom'], \n",
    "           'bag of Cs and Vs')"
   ]
  },
  {
   "cell_type": "code",
   "execution_count": 28,
   "metadata": {},
   "outputs": [
    {
     "name": "stdout",
     "output_type": "stream",
     "text": [
      "              precision    recall  f1-score   support\n",
      "\n",
      "           0       0.71      0.82      0.76      1139\n",
      "           1       0.72      0.58      0.64       905\n",
      "\n",
      "    accuracy                           0.71      2044\n",
      "   macro avg       0.72      0.70      0.70      2044\n",
      "weighted avg       0.71      0.71      0.71      2044\n",
      "\n"
     ]
    },
    {
     "data": {
      "image/png": "[encoded data removed]",
      "text/plain": [
       "<Figure size 432x288 with 2 Axes>"
      ]
     },
     "metadata": {
      "needs_background": "light"
     },
     "output_type": "display_data"
    },
    {
     "data": {
      "image/png": "[encoded data removed]",
      "text/plain": [
       "<Figure size 432x288 with 2 Axes>"
      ]
     },
     "metadata": {
      "needs_background": "light"
     },
     "output_type": "display_data"
    },
    {
     "data": {
      "image/png": "[encoded data removed]",
      "text/plain": [
       "<Figure size 432x288 with 1 Axes>"
      ]
     },
     "metadata": {
      "needs_background": "light"
     },
     "output_type": "display_data"
    }
   ],
   "source": [
    "# Model 7: trying out consonants part 2\n",
    "\n",
    "vect_cvw = CountVectorizer(min_df = 2)\n",
    "X_train_cvw = vect_cvw.fit_transform(consonants_vowels_words.iloc[X_train])\n",
    "X_test_cvw = vect_cvw.transform(consonants_vowels_words.iloc[X_test])\n",
    "\n",
    "mod_cvw = LogisticRegression(max_iter = 200)\n",
    "mod_cvw.fit(X_train_cvw, y_train)\n",
    "\n",
    "eval_model(mod_cvw, X_test_cvw, y_test, ['horror', 'romcom'], \n",
    "           'mixed bag of words, Cs and Vs')"
   ]
  },
  {
   "cell_type": "markdown",
   "metadata": {
    "pycharm": {
     "name": "#%% md\n"
    }
   },
   "source": [
    "### Issues to address\n",
    "* Automated transcriptions are not great\n",
    "    * 976 evil = 'nine-hundred-seventy vust evil'\n",
    "    * xtro = 'tea-strow'\n",
    "* Many conflated meanings of sound symbolism\n",
    "* Many conflated sub-genres in movies\n",
    "* So far, assuming American English (not true)\n",
    "\n",
    "### Ideas for further development\n",
    "In descending order of complexity and importance\n",
    "1. Consider the other genres (for example: drama)\n",
    "    * Really it's multi-label classification\n",
    "    * Simpler would be multi-class, but movie genres aren't exclusive bins\n",
    "2. Add semantic features\n",
    "    * Average all of the semantic vectors in a title\n",
    "    * Use that to predict genre too\n",
    "    * Same desirable properties as using phonetics\n",
    "* Add consonants\n",
    "    * DONE: superficially\n",
    "    * Consonant features\n",
    "        * Place of articulation\n",
    "        * Voicing\n",
    "* Phonetic properties should be continuous\n",
    "    * How to featurize a word? That's tougher.\n",
    "        * Average of vowels in word?\n",
    "* Add morphemes / subparts of words\n",
    "    * E.g. Clueless = clue + less\n",
    "    * That helps!\n",
    "* Add regularization\n",
    "    * Ridge classifier? (1.1.2.2. Classification in sklearn docs)\n",
    "* Other vectorizations of features\n",
    "    * tf-idf\n",
    "        * Tried -- doesn't help at all\n",
    "        * Words are so infrequent that idf doesn't change anything\n",
    "    * binary features?\n",
    "        * Easier to interpret\n",
    "* Lemmatize words\n",
    "    * Done!\n",
    "    * A smarter way that uses a PoS tagger would be better\n",
    "* Read up on classification of very short documents\n",
    "    * Names?\n",
    "        * Ask Stephanie about names and gender classification\n",
    "    * Tweets? Headlines?\n",
    "    * Other simple classifiers\n",
    "      * Naive Bayes\n",
    "        * But features aren't independent\n",
    "        * But are they ever?\n",
    "        * Tried -- indistinguishable for these features\n",
    "      * SVMs (multiclass SVM?)\n",
    "      * Benefits of GLM\n",
    "        * Easy to interpret\n",
    "        * Each feature is assigned a score\n",
    "        * Regularization is straightforward (L1, L2 prior)\n",
    "* Look at types instead of token\n",
    "    * Romance lexicon?\n",
    "    * Horror lexicon?"
   ]
  }
 ],
 "metadata": {
  "kernelspec": {
   "display_name": "Python 3",
   "language": "python",
   "name": "python3"
  },
  "language_info": {
   "codemirror_mode": {
    "name": "ipython",
    "version": 3
   },
   "file_extension": ".py",
   "mimetype": "text/x-python",
   "name": "python",
   "nbconvert_exporter": "python",
   "pygments_lexer": "ipython3",
   "version": "3.7.6"
  },
  "pycharm": {
   "stem_cell": {
    "cell_type": "raw",
    "metadata": {
     "collapsed": false
    },
    "source": []
   }
  }
 },
 "nbformat": 4,
 "nbformat_minor": 1
}
